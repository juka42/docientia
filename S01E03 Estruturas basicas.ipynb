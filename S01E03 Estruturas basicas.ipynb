{
 "cells": [
  {
   "cell_type": "markdown",
   "metadata": {},
   "source": [
    "# Indice\n",
    "1. listas\n",
    "    1. Criação e atribuição\n",
    "    2. Referenciamento e slicing\n",
    "    3. métodos\n",
    "2. sets\n",
    "    1. Criação e atribuição\n",
    "    2. Operadores de conjuntos\n",
    "    3. Referenciamento\n",
    "    4. métodos\n",
    "3. dicts\n",
    "    1. Criação e atribuição\n",
    "    2. Referenciamento e slicing\n",
    "    3. métodos\n",
    "4. tuples\n",
    "    1. Criação e atribuição\n",
    "    2. Referenciamento e slicing\n",
    "    3. métodos"
   ]
  },
  {
   "cell_type": "markdown",
   "metadata": {},
   "source": [
    "\n",
    "1. Dog\n",
    "    1. German Shepherd\n",
    "    2. Belgian Shepherd\n",
    "        1. Malinois\n",
    "        2. Groenendael\n",
    "        3. Tervuren\n",
    "2. Cat\n",
    "    1. Siberian\n",
    "    2. Siamese\n"
   ]
  },
  {
   "cell_type": "markdown",
   "metadata": {},
   "source": [
    "# Estruturas de dados\n",
    "\n",
    "O Python possui quatro estruturas básicas de dados nativas, que são coleções de dados, cada uma com suas características, e vêm a ajudar em programações mais complexas. Referenciaremos os nomes em português por ser mais natural, mas eventualmente em inglês, porque são esses nomes que aparecerão no Out[] quando você usa a função type() ou quando ocorre algum erro. \n",
    "\n",
    "As variáveis do Python podem ser classificadas em mutáveis e imutáveis. O conceito é o que se entende mesmo: variáveis mutáveis podem ter seu valor alterado, enquanto que variáveis imutáveis não podem ter seu valor alterado, a menos que se crie uma variável inteiramente nova em seu lugar.\n",
    "\n",
    "As estruturas, além disso, por serem coleções de dados, podem ser classificadas como **ordenadas** e **não ordenadas**.\n",
    "\n",
    "As quatro estruturas nativas do Python são:\n",
    "\n",
    "- List: é uma 'Lista', ou uma coleção mutável e ordenada de variáveis de qualquer tipo\n",
    "- Set: é um 'conjunto', ou uma coleção mutável e não ordenada de valores únicos\n",
    "- Dictionary: é um 'dicionário', para cada 'chave' guarda um conteúdo\n",
    "- Tuple: ou Tupla. É uma coleção ordenada e imutável de valores.\n",
    "\n"
   ]
  },
  {
   "cell_type": "markdown",
   "metadata": {},
   "source": [
    "## estruturas tipo *List*\n",
    "\n",
    "Listas são coleções de dados ordenadas e mutáveis"
   ]
  },
  {
   "cell_type": "code",
   "execution_count": 1,
   "metadata": {},
   "outputs": [
    {
     "data": {
      "text/plain": [
       "tuple"
      ]
     },
     "execution_count": 1,
     "metadata": {},
     "output_type": "execute_result"
    }
   ],
   "source": [
    "a = (1,1)\n",
    "type(a)"
   ]
  },
  {
   "cell_type": "code",
   "execution_count": 3,
   "metadata": {},
   "outputs": [],
   "source": [
    "a = [1, 2, 3, \"a\"]"
   ]
  },
  {
   "cell_type": "code",
   "execution_count": 5,
   "metadata": {},
   "outputs": [],
   "source": [
    "b = set(a)"
   ]
  },
  {
   "cell_type": "code",
   "execution_count": 7,
   "metadata": {},
   "outputs": [
    {
     "data": {
      "text/plain": [
       "set"
      ]
     },
     "execution_count": 7,
     "metadata": {},
     "output_type": "execute_result"
    }
   ],
   "source": [
    "type(b)"
   ]
  },
  {
   "cell_type": "code",
   "execution_count": 8,
   "metadata": {},
   "outputs": [
    {
     "data": {
      "text/plain": [
       "{1, 2, 3, 'a'}"
      ]
     },
     "execution_count": 8,
     "metadata": {},
     "output_type": "execute_result"
    }
   ],
   "source": [
    "b"
   ]
  },
  {
   "cell_type": "markdown",
   "metadata": {},
   "source": [
    "### sets"
   ]
  },
  {
   "cell_type": "markdown",
   "metadata": {},
   "source": [
    "key in s        # containment check  \n",
    "key not in s   # non-containment check  \n",
    "s1 == s2       # s1 is equivalent to s2  \n",
    "s1 != s2       # s1 is not equivalent to s2  \n",
    "s1 <= s2       # s1is subset of s2  \n",
    "s1 < s2        # s1 is proper subset of s2  \n",
    "s1 >= s2       # s1is superset of s2  \n",
    "s1 > s2        # s1 is proper superset of s2  \n",
    "s1 | s2        # the union of s1 and s2  \n",
    "s1 & s2        # the intersection of s1 and s2  \n",
    "s1 – s2        # the set of elements in s1 but not s2  \n",
    "s1 ˆ s2        # the set of elements in precisely one of s1 or s2"
   ]
  },
  {
   "cell_type": "code",
   "execution_count": null,
   "metadata": {},
   "outputs": [],
   "source": []
  }
 ],
 "metadata": {
  "kernelspec": {
   "display_name": "Python 3",
   "language": "python",
   "name": "python3"
  },
  "language_info": {
   "codemirror_mode": {
    "name": "ipython",
    "version": 3
   },
   "file_extension": ".py",
   "mimetype": "text/x-python",
   "name": "python",
   "nbconvert_exporter": "python",
   "pygments_lexer": "ipython3",
   "version": "3.8.5"
  }
 },
 "nbformat": 4,
 "nbformat_minor": 4
}
