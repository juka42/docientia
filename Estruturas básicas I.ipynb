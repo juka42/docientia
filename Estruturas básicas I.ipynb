{
 "cells": [
  {
   "cell_type": "markdown",
   "metadata": {},
   "source": [
    "## Tipos de dados\n",
    "\n",
    "Há dois tipos básicos de dados no Python: numéricos e string.\n",
    "\n",
    "Tipo texto:\n",
    "- str\n",
    "\n",
    "Os tipos numéricos se subdividem em:\n",
    "\n",
    "- int\n",
    "- float \n",
    "- complex\n",
    "\n",
    "Tipo lógico:\n",
    "- Bool\n",
    "\n",
    "e tipos binários:\n",
    "- bytes, \n",
    "- bytearray\n",
    "- memoryview\n",
    "\n",
    "Não nos concentraremos nos tipos binários por enquanto."
   ]
  },
  {
   "cell_type": "markdown",
   "metadata": {},
   "source": [
    "# Tipos numéricos\n",
    "\n",
    "# *int*\n",
    "\n",
    "int - variáveis desse tipo podem assumir valores inteiros como 1, -2, 42 e 1729. Podemos inspecionar o tipo do dado armazenado na variável com a função *type()*. *Int* é o tipo natural que uma variável assume quando se atribui um valor inteiro:"
   ]
  },
  {
   "cell_type": "code",
   "execution_count": 16,
   "metadata": {},
   "outputs": [
    {
     "name": "stdout",
     "output_type": "stream",
     "text": [
      "42\n"
     ]
    },
    {
     "data": {
      "text/plain": [
       "int"
      ]
     },
     "execution_count": 16,
     "metadata": {},
     "output_type": "execute_result"
    }
   ],
   "source": [
    "a = 42\n",
    "print(a)\n",
    "type(a)"
   ]
  },
  {
   "cell_type": "code",
   "execution_count": 18,
   "metadata": {},
   "outputs": [
    {
     "name": "stdout",
     "output_type": "stream",
     "text": [
      "<class 'int'>\n"
     ]
    },
    {
     "data": {
      "text/plain": [
       "-2360873"
      ]
     },
     "execution_count": 18,
     "metadata": {},
     "output_type": "execute_result"
    }
   ],
   "source": [
    "b = -2360873\n",
    "print(type(b))\n",
    "b"
   ]
  },
  {
   "cell_type": "markdown",
   "metadata": {},
   "source": [
    "Repare que nesta última célula tivemos que usar a função print em conjunto com Type devido a que este comando não estava no final da célula, e não seria impresso. Note também que o output saiu ligeiramente diferente."
   ]
  },
  {
   "cell_type": "markdown",
   "metadata": {},
   "source": [
    "## *Float*\n",
    "\n",
    "O tipo Float armazena um número do tipo \"ponto flutuante\". Números decimais são armazenados em floats. Em alguns casos, esse tipo de variável armazena a informação com uma precisão arbitrária, mas nunca perfeita, como no caso de se armazenar uma dízima periódica ou um número irracional como o **pi** por exemplo.\n",
    "\n",
    "Uma atribuição do tipo a = 1.1 atribui um valor do tipo *Float*"
   ]
  },
  {
   "cell_type": "code",
   "execution_count": 42,
   "metadata": {},
   "outputs": [
    {
     "name": "stdout",
     "output_type": "stream",
     "text": [
      "2.2\n"
     ]
    },
    {
     "data": {
      "text/plain": [
       "float"
      ]
     },
     "execution_count": 42,
     "metadata": {},
     "output_type": "execute_result"
    }
   ],
   "source": [
    "a = 2.2\n",
    "print(a)\n",
    "type(a)"
   ]
  },
  {
   "cell_type": "markdown",
   "metadata": {},
   "source": [
    "## Operadores de Atribuição\n",
    "No Python existem três tipos de operadores de atribuição numérica que visam simplificar a leitura do código.\n",
    "\n",
    "| Operador       | Exemplo         | Exemplo         |\n",
    "| :------------- | :----------:    | :----------:    |\n",
    "| =              | a = 1           | a = 1           |\n",
    "| +=             | b += 2          | b = b+1         |\n",
    "| -=             | c -= 3          | c = c - 3       |\n",
    "\n",
    "### Atribuição múltipla\n",
    "\n",
    "Se pode também atribuir valor a diversas variáveis em uma única linha como no exemplo abaixo:\n",
    "\n",
    "```\n",
    "a, b, c = 1, 42, 1729\n",
    "```\n",
    "\n",
    "é equivalente a:\n",
    "```\n",
    "a = 1\n",
    "b = 42\n",
    "c = 1729\n",
    "```"
   ]
  },
  {
   "cell_type": "markdown",
   "metadata": {},
   "source": [
    "# Operadores numéricos\n",
    "\n",
    "O Python traz nativamente (i.e. sem a necessidade de instalação ou carga de bibliotecas adicionais) os seguintes operadores numéricos:\n",
    "\n",
    "| Operador       | Operação        |\n",
    "| :------------- | :----------:    |\n",
    "| +              | Adição          |\n",
    "| -              | Subtração       |\n",
    "| //             | Divisão inteira |\n",
    "| %              | Resto           |\n",
    "| /              | Divisão         |\n",
    "| *              | Multiplicação   |\n",
    "| **             | Potenciação     |\n",
    "\n",
    "Esses operadores podem ser utilizados em conjunto com um operador de atribuição ou não. Funcionam para dados numéricos, tanto inteiros quanto floats.\n"
   ]
  },
  {
   "cell_type": "code",
   "execution_count": 19,
   "metadata": {},
   "outputs": [
    {
     "data": {
      "text/plain": [
       "5"
      ]
     },
     "execution_count": 19,
     "metadata": {},
     "output_type": "execute_result"
    }
   ],
   "source": [
    "a = 2 + 3\n",
    "a"
   ]
  },
  {
   "cell_type": "code",
   "execution_count": 21,
   "metadata": {},
   "outputs": [
    {
     "data": {
      "text/plain": [
       "1729"
      ]
     },
     "execution_count": 21,
     "metadata": {},
     "output_type": "execute_result"
    }
   ],
   "source": [
    "10 ** 3 + 9 ** 3"
   ]
  },
  {
   "cell_type": "code",
   "execution_count": 24,
   "metadata": {},
   "outputs": [
    {
     "data": {
      "text/plain": [
       "1729"
      ]
     },
     "execution_count": 24,
     "metadata": {},
     "output_type": "execute_result"
    }
   ],
   "source": [
    "a = 12 ** 3\n",
    "b = 1 ** 3\n",
    "a + b"
   ]
  },
  {
   "cell_type": "markdown",
   "metadata": {},
   "source": [
    "#### Abaixo temos alguns exemplos de uso desses operadores:"
   ]
  },
  {
   "cell_type": "markdown",
   "metadata": {},
   "source": [
    "| Operador       | Expressão       | Resultado    |\n",
    "| :------------- | :----------:    | :----------: |\n",
    "| +              |      3 + 2      |      5       |\n",
    "| -              |      5 - 7      |     -2       |\n",
    "| //             |      13 // 5    |      2       |\n",
    "| %              |      13 // 5    |      3       |\n",
    "| /              |      10 / 5     |      2       |\n",
    "| *              |       3 * 2     |      6       |\n",
    "| **             |      3 ** 3     |      9       |"
   ]
  },
  {
   "cell_type": "markdown",
   "metadata": {},
   "source": [
    "### Ordem de execução\n",
    "\n",
    "A ordem de execução é a seguinte: primeiro resolve-se operações dentro de parêntesis, em seguida esta ordem: \\*\\*, \\*, / , // , %, + e - . Parêntesis podem ser utilizados para manter a legibilidade do código, no entanto, não se aconselha terem-se linhas de código muito extensas.\n",
    "\n",
    "Alguns exemplos:"
   ]
  },
  {
   "cell_type": "code",
   "execution_count": 29,
   "metadata": {},
   "outputs": [
    {
     "data": {
      "text/plain": [
       "1729"
      ]
     },
     "execution_count": 29,
     "metadata": {},
     "output_type": "execute_result"
    }
   ],
   "source": [
    "10 ** 3 + 9 ** 3"
   ]
  },
  {
   "cell_type": "markdown",
   "metadata": {},
   "source": [
    "Neste exemplo de cima se resolvem primeiro as potencias (10 ** 3) e (9 ** 2) e em seguida a soma: 1000 + 729"
   ]
  },
  {
   "cell_type": "code",
   "execution_count": 30,
   "metadata": {},
   "outputs": [
    {
     "data": {
      "text/plain": [
       "12"
      ]
     },
     "execution_count": 30,
     "metadata": {},
     "output_type": "execute_result"
    }
   ],
   "source": [
    "3 + 2 * 2 ** 2 + 1"
   ]
  },
  {
   "cell_type": "markdown",
   "metadata": {},
   "source": [
    "é bem diferente desse:"
   ]
  },
  {
   "cell_type": "code",
   "execution_count": 31,
   "metadata": {},
   "outputs": [
    {
     "data": {
      "text/plain": [
       "21"
      ]
     },
     "execution_count": 31,
     "metadata": {},
     "output_type": "execute_result"
    }
   ],
   "source": [
    "(3 + 2) * 2 ** 2 + 1"
   ]
  },
  {
   "cell_type": "markdown",
   "metadata": {},
   "source": [
    "Se quisermos resolver a conta da esquerda para a direita precisaremos de parêntesis ou alterar a ordem das operações."
   ]
  },
  {
   "cell_type": "code",
   "execution_count": 32,
   "metadata": {},
   "outputs": [
    {
     "data": {
      "text/plain": [
       "101"
      ]
     },
     "execution_count": 32,
     "metadata": {},
     "output_type": "execute_result"
    }
   ],
   "source": [
    "((3 + 2) * 2) ** 2 + 1"
   ]
  },
  {
   "cell_type": "code",
   "execution_count": 33,
   "metadata": {},
   "outputs": [
    {
     "data": {
      "text/plain": [
       "12"
      ]
     },
     "execution_count": 33,
     "metadata": {},
     "output_type": "execute_result"
    }
   ],
   "source": [
    "2 ** 2 * 2 + 3 + 1"
   ]
  },
  {
   "cell_type": "markdown",
   "metadata": {},
   "source": [
    "Nessa próxima expressão, resolve-se primeiro a conta dos parêntesis, depois a potência, depois a divisão inteira (//) depois a multiplicação, e por último a subtração.\n",
    "\n",
    "0.   9 * <span style=\"color:red\">(1 + 2)</span> ** 2 - 9 // 5\n",
    "1.   9 * <span style=\"color:red\">3 ** 2</span> - 9 // 5\n",
    "2.   9 * 9 - <span style=\"color:red\">9 // 5</span>\n",
    "3.   <span style=\"color:red\">9 * 9</span> - 1\n",
    "5.   <span style=\"color:red\">81 - 1</span>\n",
    "6.   <span style=\"color:red\">80</span>"
   ]
  },
  {
   "cell_type": "code",
   "execution_count": 34,
   "metadata": {},
   "outputs": [
    {
     "data": {
      "text/plain": [
       "80"
      ]
     },
     "execution_count": 34,
     "metadata": {},
     "output_type": "execute_result"
    }
   ],
   "source": [
    "9*(1+2)**2-9//5"
   ]
  },
  {
   "cell_type": "markdown",
   "metadata": {},
   "source": [
    "## Tipo *Bool*\n",
    "Variáveis do tipo Bool (Booleanas) são resultados de operadores lógicos. Assumem os valores **Verdadeiro** e **Falso** e possuem operadores próprios."
   ]
  },
  {
   "cell_type": "code",
   "execution_count": 46,
   "metadata": {},
   "outputs": [
    {
     "data": {
      "text/plain": [
       "True"
      ]
     },
     "execution_count": 46,
     "metadata": {},
     "output_type": "execute_result"
    }
   ],
   "source": [
    "a = True\n",
    "a"
   ]
  },
  {
   "cell_type": "code",
   "execution_count": 47,
   "metadata": {},
   "outputs": [
    {
     "data": {
      "text/plain": [
       "False"
      ]
     },
     "execution_count": 47,
     "metadata": {},
     "output_type": "execute_result"
    }
   ],
   "source": [
    "b = False\n",
    "b"
   ]
  },
  {
   "cell_type": "code",
   "execution_count": 49,
   "metadata": {},
   "outputs": [
    {
     "data": {
      "text/plain": [
       "bool"
      ]
     },
     "execution_count": 49,
     "metadata": {},
     "output_type": "execute_result"
    }
   ],
   "source": [
    "type(a)"
   ]
  },
  {
   "cell_type": "markdown",
   "metadata": {},
   "source": [
    "Na realidade variáveis Booleanas são números armazenados com 1 único bit, sendo 1 = True e 0 = False. Respondem portanto a operadores matemáticos, mas o resultado será um outro tipo numérico, *int* ou *float*."
   ]
  },
  {
   "cell_type": "code",
   "execution_count": 53,
   "metadata": {},
   "outputs": [
    {
     "data": {
      "text/plain": [
       "0"
      ]
     },
     "execution_count": 53,
     "metadata": {},
     "output_type": "execute_result"
    }
   ],
   "source": [
    "a * b"
   ]
  },
  {
   "cell_type": "code",
   "execution_count": 54,
   "metadata": {},
   "outputs": [
    {
     "data": {
      "text/plain": [
       "2"
      ]
     },
     "execution_count": 54,
     "metadata": {},
     "output_type": "execute_result"
    }
   ],
   "source": [
    "a + a"
   ]
  },
  {
   "cell_type": "code",
   "execution_count": 55,
   "metadata": {},
   "outputs": [
    {
     "data": {
      "text/plain": [
       "2.5"
      ]
     },
     "execution_count": 55,
     "metadata": {},
     "output_type": "execute_result"
    }
   ],
   "source": [
    "a * 2.5"
   ]
  },
  {
   "cell_type": "code",
   "execution_count": 56,
   "metadata": {},
   "outputs": [
    {
     "data": {
      "text/plain": [
       "int"
      ]
     },
     "execution_count": 56,
     "metadata": {},
     "output_type": "execute_result"
    }
   ],
   "source": [
    "type(a + a)"
   ]
  },
  {
   "cell_type": "code",
   "execution_count": 57,
   "metadata": {},
   "outputs": [
    {
     "data": {
      "text/plain": [
       "float"
      ]
     },
     "execution_count": 57,
     "metadata": {},
     "output_type": "execute_result"
    }
   ],
   "source": [
    "type(a * 2.5)"
   ]
  },
  {
   "cell_type": "markdown",
   "metadata": {},
   "source": [
    "### Operadores *booleanos*\n",
    "\n",
    "A simbologia lógica, ou booleana, foi inventada por [George Bool](https://pt.wikipedia.org/wiki/George_Boole) e tem uma importância histórica marcante na matemática e nas ciências de computação desde então. Trata-se da representação de conceitos lógicos como \"verdadeiro\" e \"falso\" e de operações sobre esses conceitos. \n",
    "\n",
    "No Python, tipos *booleanos* recebem dois possíveis valores: *True* e *False* (1 e 0 respectivamente). Há operadores lógicos específicos que retornam booleanos, e têm usos diversos em programação:\n",
    "\n",
    "\n",
    "| Operador       | Expressão         | Operação          | Resultado    |\n",
    "| :------------- | :----------:      | :---------------: | :----------: |\n",
    "| ==             |    3 == 2         |  avalia se ambos os valores são iguais    |    False     |\n",
    "| >              |    7 > 5          |  avalia se o valor da esquerda é maior que o da direita |    True      |\n",
    "| >=             |    5 >= 5         |  avalia se o valor da esquerda é maior ou igual ao da direita| True   |\n",
    "| <              |    7 < 5          |  avalia se o valor da esquerda é menor que o da direita |    False     |\n",
    "| <=             |    7 <= 7         |  avalia se o valor da esquerda é menor ou igual ao da direita | True  |\n",
    "| !=             |    3 != 2         |  avalia se o valor da esquerda diferente do da direita |    True      |\n",
    "| and            | 2 == 2 and 3 == 3 |  avalia se duas expressões são verdadeiras |    True      |\n",
    "| or             | 2 == 2 or 2 != 1  |  avalia se pelo menos uma expressão é verdadeira  |    True      |\n",
    "| not            |  not 5 == 7       |  inverte a operação booleana à direita   |    True      |"
   ]
  },
  {
   "cell_type": "code",
   "execution_count": 58,
   "metadata": {},
   "outputs": [
    {
     "data": {
      "text/plain": [
       "True"
      ]
     },
     "execution_count": 58,
     "metadata": {},
     "output_type": "execute_result"
    }
   ],
   "source": [
    "True & True"
   ]
  },
  {
   "cell_type": "markdown",
   "metadata": {},
   "source": [
    "Variáveis Boolenas podem ser criadas explicitamente através da função bool(). Valores 0 são convertidos em **False** e quaisquer outros valores são convertidos em **True**"
   ]
  },
  {
   "cell_type": "code",
   "execution_count": 65,
   "metadata": {},
   "outputs": [
    {
     "data": {
      "text/plain": [
       "True"
      ]
     },
     "execution_count": 65,
     "metadata": {},
     "output_type": "execute_result"
    }
   ],
   "source": [
    "a = bool(1)\n",
    "b = bool(0)\n",
    "c = bool(10)\n",
    "d = bool(-1)\n"
   ]
  },
  {
   "cell_type": "code",
   "execution_count": 75,
   "metadata": {},
   "outputs": [
    {
     "ename": "SyntaxError",
     "evalue": "invalid syntax (<ipython-input-75-0763523b4e97>, line 1)",
     "output_type": "error",
     "traceback": [
      "\u001b[0;36m  File \u001b[0;32m\"<ipython-input-75-0763523b4e97>\"\u001b[0;36m, line \u001b[0;32m1\u001b[0m\n\u001b[0;31m    if ^True:\u001b[0m\n\u001b[0m       ^\u001b[0m\n\u001b[0;31mSyntaxError\u001b[0m\u001b[0;31m:\u001b[0m invalid syntax\n"
     ]
    }
   ],
   "source": [
    "if True:\n",
    "    print(\"###\")"
   ]
  },
  {
   "cell_type": "markdown",
   "metadata": {},
   "source": [
    "## Tipos str\n",
    "Dados tipo *str* são cadeias de caracteres, como \"batatinha\", \"1729\" e \"Rua Saturnino de Brito, 74\". Observe que mesmo o \"1729\" não é um número, sim uma cadeia de cacteres (ou *str*), portanto não é passível de operações matemáticas a menos que seja convertido.\n",
    "\n",
    "Variáveis com dados tipo *str* podem ser criadas diretamente utilizando-se o operador de atribuição \"=\" e as aspas simples [' '] ou aspas duplas [\" \"]. A diferença entre elas ficará claro nos exemplos abaixo:"
   ]
  },
  {
   "cell_type": "code",
   "execution_count": 13,
   "metadata": {},
   "outputs": [
    {
     "data": {
      "text/plain": [
       "'Rua saturnino de brito, 74'"
      ]
     },
     "execution_count": 13,
     "metadata": {},
     "output_type": "execute_result"
    }
   ],
   "source": [
    "a = \"Rua saturnino de brito, 74\"\n",
    "a"
   ]
  },
  {
   "cell_type": "code",
   "execution_count": 2,
   "metadata": {},
   "outputs": [
    {
     "data": {
      "text/plain": [
       "'1729'"
      ]
     },
     "execution_count": 2,
     "metadata": {},
     "output_type": "execute_result"
    }
   ],
   "source": [
    "b = '1729'\n",
    "b"
   ]
  },
  {
   "cell_type": "code",
   "execution_count": 3,
   "metadata": {},
   "outputs": [
    {
     "data": {
      "text/plain": [
       "\"Trapaceou e foi o 'vencedor' da prova\""
      ]
     },
     "execution_count": 3,
     "metadata": {},
     "output_type": "execute_result"
    }
   ],
   "source": [
    "c = \"Trapaceou e foi o 'vencedor' da prova\"\n",
    "c"
   ]
  },
  {
   "cell_type": "code",
   "execution_count": 6,
   "metadata": {},
   "outputs": [
    {
     "data": {
      "text/plain": [
       "'\"Caminante, no hay camino, se hace el camino al andar\" Antonio Machado'"
      ]
     },
     "execution_count": 6,
     "metadata": {},
     "output_type": "execute_result"
    }
   ],
   "source": [
    "d = '\"Caminante, no hay camino, se hace el camino al andar\" Antonio Machado'\n",
    "d"
   ]
  },
  {
   "cell_type": "markdown",
   "metadata": {},
   "source": [
    "Se você deseja utilizar aspas simples dentro do valor da variável, utilize aspas duplas para defini-la, e vice versa, como nos exemplos acima. Ou, alternativamente, pode-se utilizar o caractere \"\\\" que significa \"escape\", e dá significado literal ao caractere seguinte:"
   ]
  },
  {
   "cell_type": "code",
   "execution_count": 8,
   "metadata": {},
   "outputs": [
    {
     "data": {
      "text/plain": [
       "'\"Caminante, no hay camino, se hace el camino al andar\" Antonio Machado'"
      ]
     },
     "execution_count": 8,
     "metadata": {},
     "output_type": "execute_result"
    }
   ],
   "source": [
    "d = \"\\\"Caminante, no hay camino, se hace el camino al andar\\\" Antonio Machado\"\n",
    "d"
   ]
  },
  {
   "cell_type": "markdown",
   "metadata": {},
   "source": [
    "Podemos checar o tipo de um dado através da função nativa type():"
   ]
  },
  {
   "cell_type": "code",
   "execution_count": 10,
   "metadata": {},
   "outputs": [
    {
     "data": {
      "text/plain": [
       "str"
      ]
     },
     "execution_count": 10,
     "metadata": {},
     "output_type": "execute_result"
    }
   ],
   "source": [
    "type(d)"
   ]
  },
  {
   "cell_type": "markdown",
   "metadata": {},
   "source": [
    "Como você já deve ter percebido, no **jupyter notebook**, quando você roda uma célula com uma variável no final, você vê o feedback com o valor dela na sequencia. O que não ocorre se o nome da variável não estiver no final da célula, nesses casos você pode utilizar a função *print()*."
   ]
  },
  {
   "cell_type": "code",
   "execution_count": 11,
   "metadata": {},
   "outputs": [
    {
     "data": {
      "text/plain": [
       "\"Trapaceou e foi o 'vencedor' da prova\""
      ]
     },
     "execution_count": 11,
     "metadata": {},
     "output_type": "execute_result"
    }
   ],
   "source": [
    "# No *jupyter notebook*, a chamada de uma variável só retorna *feedback* nos \n",
    "#       resultados se for a última chamada da célula\n",
    "\n",
    "a\n",
    "b\n",
    "c"
   ]
  },
  {
   "cell_type": "code",
   "execution_count": 14,
   "metadata": {},
   "outputs": [
    {
     "name": "stdout",
     "output_type": "stream",
     "text": [
      "Rua saturnino de brito, 74\n",
      "1729\n",
      "Trapaceou e foi o 'vencedor' da prova\n"
     ]
    }
   ],
   "source": [
    "# Para ver os valores das três variáveis, é necessário usar uma função como o *print()\n",
    "\n",
    "print(a)\n",
    "print(b)\n",
    "print(c)"
   ]
  },
  {
   "cell_type": "markdown",
   "metadata": {},
   "source": [
    "### Utilizando operadores com strings"
   ]
  },
  {
   "cell_type": "markdown",
   "metadata": {},
   "source": [
    "Tipos **str** também aceitam nativamente operadores, os quais vão ter efeitos especiais sobre as variáveis.\n",
    "\n",
    "| Operador       | Expressão       | Resultado    |\n",
    "| :------------- | :----------:    | :----------: |\n",
    "| +              |  \"Fú\" + \"Ba\"    |    \"FúBa\"    |\n",
    "| *              |    \"Fú\" * 3     |   \"FúFúFú\"   |\n",
    "\n",
    "Vamos testar?"
   ]
  },
  {
   "cell_type": "code",
   "execution_count": 38,
   "metadata": {},
   "outputs": [
    {
     "data": {
      "text/plain": [
       "'FúBa'"
      ]
     },
     "execution_count": 38,
     "metadata": {},
     "output_type": "execute_result"
    }
   ],
   "source": [
    "\"Fú\" + \"Ba\""
   ]
  },
  {
   "cell_type": "code",
   "execution_count": 39,
   "metadata": {},
   "outputs": [
    {
     "data": {
      "text/plain": [
       "'FúFúFú'"
      ]
     },
     "execution_count": 39,
     "metadata": {},
     "output_type": "execute_result"
    }
   ],
   "source": [
    "\"Fú\" * 3"
   ]
  },
  {
   "cell_type": "code",
   "execution_count": 40,
   "metadata": {},
   "outputs": [
    {
     "data": {
      "text/plain": [
       "'FúBaBaBa'"
      ]
     },
     "execution_count": 40,
     "metadata": {},
     "output_type": "execute_result"
    }
   ],
   "source": [
    "\"Fú\" + \"Ba\" * 3"
   ]
  },
  {
   "cell_type": "code",
   "execution_count": 41,
   "metadata": {},
   "outputs": [
    {
     "data": {
      "text/plain": [
       "'FúBaFúBaFúBa'"
      ]
     },
     "execution_count": 41,
     "metadata": {},
     "output_type": "execute_result"
    }
   ],
   "source": [
    "(\"Fú\" + \"Ba\") * 3"
   ]
  },
  {
   "cell_type": "markdown",
   "metadata": {},
   "source": [
    "### Operadores comparativos com strings:\n",
    "\n",
    "Também podemos utilizar operadores de comparação com strings. Alguns exemplos:"
   ]
  },
  {
   "cell_type": "code",
   "execution_count": 83,
   "metadata": {},
   "outputs": [
    {
     "data": {
      "text/plain": [
       "False"
      ]
     },
     "execution_count": 83,
     "metadata": {},
     "output_type": "execute_result"
    }
   ],
   "source": [
    "\"asdf\" > \"asdf\""
   ]
  },
  {
   "cell_type": "code",
   "execution_count": 84,
   "metadata": {},
   "outputs": [
    {
     "data": {
      "text/plain": [
       "True"
      ]
     },
     "execution_count": 84,
     "metadata": {},
     "output_type": "execute_result"
    }
   ],
   "source": [
    "\"qwerty\" >= \"asdf\""
   ]
  }
 ],
 "metadata": {
  "kernelspec": {
   "display_name": "Python 3",
   "language": "python",
   "name": "python3"
  },
  "language_info": {
   "codemirror_mode": {
    "name": "ipython",
    "version": 3
   },
   "file_extension": ".py",
   "mimetype": "text/x-python",
   "name": "python",
   "nbconvert_exporter": "python",
   "pygments_lexer": "ipython3",
   "version": "3.8.5"
  }
 },
 "nbformat": 4,
 "nbformat_minor": 4
}
